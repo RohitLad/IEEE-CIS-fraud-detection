{
 "cells": [
  {
   "cell_type": "code",
   "execution_count": 1,
   "metadata": {},
   "outputs": [],
   "source": [
    "%load_ext autoreload\n",
    "%autoreload 2\n",
    "import pandas as pd\n",
    "import numpy as np\n",
    "import os\n",
    "from helper import *"
   ]
  },
  {
   "cell_type": "code",
   "execution_count": 2,
   "metadata": {},
   "outputs": [],
   "source": [
    "data_folder = 'dataset/'\n",
    "train_transaction = pd.read_csv(data_folder+'train_transaction.csv')\n",
    "train_identity = pd.read_csv(data_folder+'train_identity.csv')\n",
    "test_transaction = pd.read_csv(data_folder+'test_transaction.csv')\n",
    "test_identity = pd.read_csv(data_folder+'test_identity.csv')\n",
    "categories_list = ['id_'+str(x) for x in range(12,39)]+['DeviceInfo','DeviceType','R_emaildomain','P_emaildomain','addr1','addr2','ProductCD'] + ['M'+str(x) for x in range(1,10)] + ['card'+str(x) for x in range(1,7)]"
   ]
  },
  {
   "cell_type": "code",
   "execution_count": 3,
   "metadata": {},
   "outputs": [
    {
     "name": "stdout",
     "output_type": "stream",
     "text": [
      "Mem. usage decreased to 524.76 Mb (73.2% reduction)\n",
      "Mem. usage decreased to 457.64 Mb (72.7% reduction)\n"
     ]
    }
   ],
   "source": [
    "train = reduce_memory_usage(pd.merge(train_transaction, train_identity, on='TransactionID', how='left'),categories=categories_list)\n",
    "test = reduce_memory_usage(pd.merge(test_transaction, test_identity, on='TransactionID', how='left'),categories=categories_list)"
   ]
  },
  {
   "cell_type": "code",
   "execution_count": 4,
   "metadata": {},
   "outputs": [],
   "source": [
    "del train_identity, train_transaction, test_identity, test_transaction"
   ]
  },
  {
   "cell_type": "code",
   "execution_count": 9,
   "metadata": {},
   "outputs": [
    {
     "name": "stdout",
     "output_type": "stream",
     "text": [
      "nan\n",
      "nan\n"
     ]
    },
    {
     "data": {
      "text/plain": [
       "0        NaN\n",
       "1        NaN\n",
       "2        NaN\n",
       "3        NaN\n",
       "4        NaN\n",
       "          ..\n",
       "590535   NaN\n",
       "590536   NaN\n",
       "590537   NaN\n",
       "590538   NaN\n",
       "590539   NaN\n",
       "Name: TransactionAmt, Length: 590540, dtype: float16"
      ]
     },
     "execution_count": 9,
     "metadata": {},
     "output_type": "execute_result"
    }
   ],
   "source": [
    "from helper import *\n",
    "normalize(train['TransactionAmt'])"
   ]
  },
  {
   "cell_type": "code",
   "execution_count": 15,
   "metadata": {},
   "outputs": [
    {
     "name": "stdout",
     "output_type": "stream",
     "text": [
      "Dataset Shape: (590540, 1)\n"
     ]
    },
    {
     "data": {
      "text/html": [
       "<div>\n",
       "<style scoped>\n",
       "    .dataframe tbody tr th:only-of-type {\n",
       "        vertical-align: middle;\n",
       "    }\n",
       "\n",
       "    .dataframe tbody tr th {\n",
       "        vertical-align: top;\n",
       "    }\n",
       "\n",
       "    .dataframe thead th {\n",
       "        text-align: right;\n",
       "    }\n",
       "</style>\n",
       "<table border=\"1\" class=\"dataframe\">\n",
       "  <thead>\n",
       "    <tr style=\"text-align: right;\">\n",
       "      <th></th>\n",
       "      <th>Name</th>\n",
       "      <th>dtypes</th>\n",
       "      <th>Missing</th>\n",
       "      <th>Uniques</th>\n",
       "      <th>First Value</th>\n",
       "      <th>Second Value</th>\n",
       "      <th>Third Value</th>\n",
       "      <th>Entropy</th>\n",
       "    </tr>\n",
       "  </thead>\n",
       "  <tbody>\n",
       "    <tr>\n",
       "      <th>0</th>\n",
       "      <td>TransactionAmt</td>\n",
       "      <td>float16</td>\n",
       "      <td>0</td>\n",
       "      <td>8195</td>\n",
       "      <td>68.5</td>\n",
       "      <td>29.0</td>\n",
       "      <td>59.0</td>\n",
       "      <td>8.1</td>\n",
       "    </tr>\n",
       "  </tbody>\n",
       "</table>\n",
       "</div>"
      ],
      "text/plain": [
       "             Name   dtypes  Missing  Uniques  First Value  Second Value  \\\n",
       "0  TransactionAmt  float16        0     8195         68.5          29.0   \n",
       "\n",
       "   Third Value  Entropy  \n",
       "0         59.0      8.1  "
      ]
     },
     "execution_count": 15,
     "metadata": {},
     "output_type": "execute_result"
    }
   ],
   "source": [
    "summarize(train[['TransactionAmt']])"
   ]
  },
  {
   "cell_type": "code",
   "execution_count": 34,
   "metadata": {},
   "outputs": [
    {
     "data": {
      "text/plain": [
       "nan"
      ]
     },
     "execution_count": 34,
     "metadata": {},
     "output_type": "execute_result"
    }
   ],
   "source": [
    "train['dist1'].mean(skipna=True)"
   ]
  },
  {
   "cell_type": "code",
   "execution_count": null,
   "metadata": {},
   "outputs": [],
   "source": []
  },
  {
   "cell_type": "code",
   "execution_count": null,
   "metadata": {},
   "outputs": [],
   "source": []
  },
  {
   "cell_type": "code",
   "execution_count": null,
   "metadata": {},
   "outputs": [],
   "source": []
  }
 ],
 "metadata": {
  "kernelspec": {
   "display_name": "Python 3",
   "language": "python",
   "name": "python3"
  },
  "language_info": {
   "codemirror_mode": {
    "name": "ipython",
    "version": 3
   },
   "file_extension": ".py",
   "mimetype": "text/x-python",
   "name": "python",
   "nbconvert_exporter": "python",
   "pygments_lexer": "ipython3",
   "version": "3.7.4"
  }
 },
 "nbformat": 4,
 "nbformat_minor": 2
}
