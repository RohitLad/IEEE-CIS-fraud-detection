{
 "cells": [
  {
   "cell_type": "code",
   "execution_count": 1,
   "metadata": {},
   "outputs": [],
   "source": [
    "%load_ext autoreload\n",
    "%autoreload 2\n",
    "import pandas as pd\n",
    "import numpy as np\n",
    "import os\n",
    "from helper import *\n",
    "import seaborn as sns\n",
    "import matplotlib.pyplot as plt\n",
    "from sklearn.experimental import enable_iterative_imputer\n",
    "from sklearn.impute import IterativeImputer, SimpleImputer\n",
    "from sklearn.decomposition import PCA\n",
    "import datetime\n",
    "from sklearn.linear_model import LogisticRegression"
   ]
  },
  {
   "cell_type": "code",
   "execution_count": 2,
   "metadata": {},
   "outputs": [],
   "source": [
    "data_folder = 'dataset/'\n",
    "categories_list = ['isFraud']+['id_'+str(x) for x in range(12,39)]+['DeviceInfo','DeviceType','R_emaildomain','P_emaildomain','addr1','addr2','ProductCD'] + ['M'+str(x) for x in range(1,10)] + ['card'+str(x) for x in range(1,7)]+['Hours','Days']"
   ]
  },
  {
   "cell_type": "markdown",
   "metadata": {},
   "source": [
    "So, the code from kaggle's IEEE challenge was downloaded as CSV, merged and saved as pickle. Uncomment the below lines to merge and save as pickle. "
   ]
  },
  {
   "cell_type": "code",
   "execution_count": 3,
   "metadata": {},
   "outputs": [],
   "source": [
    "#train_transaction = pd.read_csv(data_folder+'train_transaction.csv')\n",
    "#train_identity = pd.read_csv(data_folder+'train_identity.csv')\n",
    "#test_transaction = pd.read_csv(data_folder+'test_transaction.csv')\n",
    "#test_identity = pd.read_csv(data_folder+'test_identity.csv')\n",
    "#train = reduce_memory_usage(train_transaction.merge(train_identity, how='left', left_index=True, right_index=True, on='TransactionID'), categories=categories_list)\n",
    "#test = reduce_memory_usage(test_transaction.merge(test_identity, how='left', left_index=True, right_index=True, on='TransactionID'),categories=categories_list)\n",
    "#train.to_pickle(data_folder+'train.pkl')\n",
    "#test.to_pickle(data_folder+'test.pkl')"
   ]
  },
  {
   "cell_type": "markdown",
   "metadata": {},
   "source": [
    "Run the below code if pickle files of the dataset are available"
   ]
  },
  {
   "cell_type": "code",
   "execution_count": 4,
   "metadata": {},
   "outputs": [],
   "source": [
    "train = pd.read_pickle(data_folder+'train.pkl')\n",
    "test = pd.read_pickle(data_folder+'test.pkl')"
   ]
  },
  {
   "cell_type": "markdown",
   "metadata": {},
   "source": [
    "Making a copy so as to avoid making mistakes on the main dataset"
   ]
  },
  {
   "cell_type": "code",
   "execution_count": 5,
   "metadata": {},
   "outputs": [],
   "source": [
    "Ttrain = train.copy()\n",
    "Ttest = test.copy()"
   ]
  },
  {
   "cell_type": "code",
   "execution_count": 6,
   "metadata": {},
   "outputs": [],
   "source": [
    "train_target = pd.DataFrame()\n",
    "test_target = pd.DataFrame()"
   ]
  },
  {
   "cell_type": "code",
   "execution_count": 7,
   "metadata": {},
   "outputs": [],
   "source": [
    "START_DATE = '2017-12-01'\n",
    "startdate = datetime.datetime.strptime(START_DATE, \"%Y-%m-%d\")\n",
    "Ttrain['Date'] = Ttrain['TransactionDT'].apply(lambda x: (startdate + datetime.timedelta(seconds=x)))\n",
    "Ttest['Date'] = Ttest['TransactionDT'].apply(lambda x: (startdate + datetime.timedelta(seconds=x)))\n",
    "Ttrain['Hours'] = assign_category(Ttrain['Date'].dt.hour)\n",
    "Ttest['Hours'] = assign_category(Ttest['Date'].dt.hour)\n",
    "Ttrain['Days'] = assign_category(Ttrain['Date'].dt.dayofweek)\n",
    "Ttest['Days'] = assign_category(Ttest['Date'].dt.dayofweek)"
   ]
  },
  {
   "cell_type": "code",
   "execution_count": 8,
   "metadata": {},
   "outputs": [],
   "source": [
    "Ttrain['logTAmt'] = np.log(Ttrain['TransactionAmt'])\n",
    "Ttest['logTAmt'] = np.log(Ttest['TransactionAmt'])\n",
    "train_target['logTAmt'] = Ttrain['logTAmt']\n",
    "test_target['logTAmt'] = Ttest['logTAmt']"
   ]
  },
  {
   "cell_type": "markdown",
   "metadata": {},
   "source": [
    "If you look below, the transaction amount has a distribution with large variance, to reduce it i.e. to handle large and small values together into our problem, a logarithm sounds good"
   ]
  },
  {
   "cell_type": "code",
   "execution_count": 9,
   "metadata": {},
   "outputs": [
    {
     "data": {
      "text/plain": [
       "<matplotlib.axes._subplots.AxesSubplot at 0x7fc0ecb44080>"
      ]
     },
     "execution_count": 9,
     "metadata": {},
     "output_type": "execute_result"
    },
    {
     "data": {
      "image/png": "[encoded data removed]",
      "text/plain": [
       "<Figure size 432x288 with 1 Axes>"
      ]
     },
     "metadata": {
      "needs_background": "light"
     },
     "output_type": "display_data"
    }
   ],
   "source": [
    "sns.distplot(Ttrain['TransactionAmt'])"
   ]
  },
  {
   "cell_type": "markdown",
   "metadata": {},
   "source": [
    "The logarithmic plot has a low variance and high and low transaction amounts can be represented within this low variance"
   ]
  },
  {
   "cell_type": "code",
   "execution_count": 10,
   "metadata": {},
   "outputs": [
    {
     "data": {
      "text/plain": [
       "<matplotlib.axes._subplots.AxesSubplot at 0x7fc0e571d4a8>"
      ]
     },
     "execution_count": 10,
     "metadata": {},
     "output_type": "execute_result"
    },
    {
     "data": {
      "image/png": "[encoded data removed]",
      "text/plain": [
       "<Figure size 432x288 with 1 Axes>"
      ]
     },
     "metadata": {
      "needs_background": "light"
     },
     "output_type": "display_data"
    }
   ],
   "source": [
    "sns.distplot(Ttrain['logTAmt'])"
   ]
  },
  {
   "cell_type": "markdown",
   "metadata": {},
   "source": [
    "Now let'S summarize a couple of next columns"
   ]
  },
  {
   "cell_type": "code",
   "execution_count": 11,
   "metadata": {},
   "outputs": [
    {
     "name": "stdout",
     "output_type": "stream",
     "text": [
      "Dataset Shape: (506691, 51)\n"
     ]
    },
    {
     "data": {
      "text/html": [
       "<div>\n",
       "<style scoped>\n",
       "    .dataframe tbody tr th:only-of-type {\n",
       "        vertical-align: middle;\n",
       "    }\n",
       "\n",
       "    .dataframe tbody tr th {\n",
       "        vertical-align: top;\n",
       "    }\n",
       "\n",
       "    .dataframe thead th {\n",
       "        text-align: right;\n",
       "    }\n",
       "</style>\n",
       "<table border=\"1\" class=\"dataframe\">\n",
       "  <thead>\n",
       "    <tr style=\"text-align: right;\">\n",
       "      <th></th>\n",
       "      <th>Name</th>\n",
       "      <th>dtypes</th>\n",
       "      <th>Missing</th>\n",
       "      <th>Uniques</th>\n",
       "      <th>First Value</th>\n",
       "      <th>Second Value</th>\n",
       "      <th>Third Value</th>\n",
       "      <th>Entropy</th>\n",
       "    </tr>\n",
       "  </thead>\n",
       "  <tbody>\n",
       "    <tr>\n",
       "      <td>0</td>\n",
       "      <td>id_12</td>\n",
       "      <td>category</td>\n",
       "      <td>0</td>\n",
       "      <td>3</td>\n",
       "      <td>NotFound</td>\n",
       "      <td>Found</td>\n",
       "      <td>NotFound</td>\n",
       "      <td>1.02</td>\n",
       "    </tr>\n",
       "    <tr>\n",
       "      <td>1</td>\n",
       "      <td>id_13</td>\n",
       "      <td>category</td>\n",
       "      <td>0</td>\n",
       "      <td>28</td>\n",
       "      <td>27</td>\n",
       "      <td>Unavailable</td>\n",
       "      <td>52</td>\n",
       "      <td>1.20</td>\n",
       "    </tr>\n",
       "    <tr>\n",
       "      <td>2</td>\n",
       "      <td>id_14</td>\n",
       "      <td>category</td>\n",
       "      <td>0</td>\n",
       "      <td>28</td>\n",
       "      <td>Unavailable</td>\n",
       "      <td>-300</td>\n",
       "      <td>-360</td>\n",
       "      <td>0.84</td>\n",
       "    </tr>\n",
       "    <tr>\n",
       "      <td>3</td>\n",
       "      <td>id_15</td>\n",
       "      <td>category</td>\n",
       "      <td>0</td>\n",
       "      <td>4</td>\n",
       "      <td>New</td>\n",
       "      <td>Found</td>\n",
       "      <td>New</td>\n",
       "      <td>1.20</td>\n",
       "    </tr>\n",
       "    <tr>\n",
       "      <td>4</td>\n",
       "      <td>id_16</td>\n",
       "      <td>category</td>\n",
       "      <td>0</td>\n",
       "      <td>3</td>\n",
       "      <td>NotFound</td>\n",
       "      <td>Found</td>\n",
       "      <td>NotFound</td>\n",
       "      <td>1.06</td>\n",
       "    </tr>\n",
       "    <tr>\n",
       "      <td>5</td>\n",
       "      <td>id_17</td>\n",
       "      <td>category</td>\n",
       "      <td>0</td>\n",
       "      <td>104</td>\n",
       "      <td>225</td>\n",
       "      <td>166</td>\n",
       "      <td>225</td>\n",
       "      <td>1.19</td>\n",
       "    </tr>\n",
       "    <tr>\n",
       "      <td>6</td>\n",
       "      <td>id_18</td>\n",
       "      <td>category</td>\n",
       "      <td>0</td>\n",
       "      <td>18</td>\n",
       "      <td>15</td>\n",
       "      <td>Unavailable</td>\n",
       "      <td>Unavailable</td>\n",
       "      <td>0.66</td>\n",
       "    </tr>\n",
       "    <tr>\n",
       "      <td>7</td>\n",
       "      <td>id_19</td>\n",
       "      <td>category</td>\n",
       "      <td>0</td>\n",
       "      <td>503</td>\n",
       "      <td>427</td>\n",
       "      <td>542</td>\n",
       "      <td>271</td>\n",
       "      <td>2.28</td>\n",
       "    </tr>\n",
       "    <tr>\n",
       "      <td>8</td>\n",
       "      <td>id_20</td>\n",
       "      <td>category</td>\n",
       "      <td>0</td>\n",
       "      <td>437</td>\n",
       "      <td>563</td>\n",
       "      <td>368</td>\n",
       "      <td>507</td>\n",
       "      <td>2.33</td>\n",
       "    </tr>\n",
       "    <tr>\n",
       "      <td>9</td>\n",
       "      <td>id_21</td>\n",
       "      <td>category</td>\n",
       "      <td>0</td>\n",
       "      <td>444</td>\n",
       "      <td>Unavailable</td>\n",
       "      <td>Unavailable</td>\n",
       "      <td>Unavailable</td>\n",
       "      <td>0.13</td>\n",
       "    </tr>\n",
       "    <tr>\n",
       "      <td>10</td>\n",
       "      <td>id_22</td>\n",
       "      <td>category</td>\n",
       "      <td>0</td>\n",
       "      <td>27</td>\n",
       "      <td>Unavailable</td>\n",
       "      <td>Unavailable</td>\n",
       "      <td>Unavailable</td>\n",
       "      <td>0.09</td>\n",
       "    </tr>\n",
       "    <tr>\n",
       "      <td>11</td>\n",
       "      <td>id_23</td>\n",
       "      <td>category</td>\n",
       "      <td>0</td>\n",
       "      <td>4</td>\n",
       "      <td>Unavailable</td>\n",
       "      <td>Unavailable</td>\n",
       "      <td>Unavailable</td>\n",
       "      <td>0.09</td>\n",
       "    </tr>\n",
       "    <tr>\n",
       "      <td>12</td>\n",
       "      <td>id_24</td>\n",
       "      <td>category</td>\n",
       "      <td>0</td>\n",
       "      <td>16</td>\n",
       "      <td>Unavailable</td>\n",
       "      <td>Unavailable</td>\n",
       "      <td>Unavailable</td>\n",
       "      <td>0.09</td>\n",
       "    </tr>\n",
       "    <tr>\n",
       "      <td>13</td>\n",
       "      <td>id_25</td>\n",
       "      <td>category</td>\n",
       "      <td>0</td>\n",
       "      <td>310</td>\n",
       "      <td>Unavailable</td>\n",
       "      <td>Unavailable</td>\n",
       "      <td>Unavailable</td>\n",
       "      <td>0.12</td>\n",
       "    </tr>\n",
       "    <tr>\n",
       "      <td>14</td>\n",
       "      <td>id_26</td>\n",
       "      <td>category</td>\n",
       "      <td>0</td>\n",
       "      <td>95</td>\n",
       "      <td>Unavailable</td>\n",
       "      <td>Unavailable</td>\n",
       "      <td>Unavailable</td>\n",
       "      <td>0.12</td>\n",
       "    </tr>\n",
       "    <tr>\n",
       "      <td>15</td>\n",
       "      <td>id_27</td>\n",
       "      <td>category</td>\n",
       "      <td>0</td>\n",
       "      <td>3</td>\n",
       "      <td>Unavailable</td>\n",
       "      <td>Unavailable</td>\n",
       "      <td>Unavailable</td>\n",
       "      <td>0.08</td>\n",
       "    </tr>\n",
       "    <tr>\n",
       "      <td>16</td>\n",
       "      <td>id_28</td>\n",
       "      <td>category</td>\n",
       "      <td>0</td>\n",
       "      <td>3</td>\n",
       "      <td>New</td>\n",
       "      <td>Found</td>\n",
       "      <td>New</td>\n",
       "      <td>1.11</td>\n",
       "    </tr>\n",
       "    <tr>\n",
       "      <td>17</td>\n",
       "      <td>id_29</td>\n",
       "      <td>category</td>\n",
       "      <td>0</td>\n",
       "      <td>3</td>\n",
       "      <td>NotFound</td>\n",
       "      <td>Found</td>\n",
       "      <td>NotFound</td>\n",
       "      <td>1.11</td>\n",
       "    </tr>\n",
       "    <tr>\n",
       "      <td>18</td>\n",
       "      <td>id_30</td>\n",
       "      <td>category</td>\n",
       "      <td>0</td>\n",
       "      <td>87</td>\n",
       "      <td>Unavailable</td>\n",
       "      <td>Android 6.0.1</td>\n",
       "      <td>Unavailable</td>\n",
       "      <td>1.15</td>\n",
       "    </tr>\n",
       "    <tr>\n",
       "      <td>19</td>\n",
       "      <td>id_31</td>\n",
       "      <td>category</td>\n",
       "      <td>0</td>\n",
       "      <td>136</td>\n",
       "      <td>chrome 67.0 for android</td>\n",
       "      <td>chrome 67.0 for android</td>\n",
       "      <td>ie 11.0 for tablet</td>\n",
       "      <td>2.15</td>\n",
       "    </tr>\n",
       "    <tr>\n",
       "      <td>20</td>\n",
       "      <td>id_32</td>\n",
       "      <td>category</td>\n",
       "      <td>0</td>\n",
       "      <td>6</td>\n",
       "      <td>Unavailable</td>\n",
       "      <td>24</td>\n",
       "      <td>Unavailable</td>\n",
       "      <td>0.70</td>\n",
       "    </tr>\n",
       "    <tr>\n",
       "      <td>21</td>\n",
       "      <td>id_33</td>\n",
       "      <td>category</td>\n",
       "      <td>0</td>\n",
       "      <td>391</td>\n",
       "      <td>Unavailable</td>\n",
       "      <td>1280x720</td>\n",
       "      <td>Unavailable</td>\n",
       "      <td>1.23</td>\n",
       "    </tr>\n",
       "    <tr>\n",
       "      <td>22</td>\n",
       "      <td>id_34</td>\n",
       "      <td>category</td>\n",
       "      <td>0</td>\n",
       "      <td>3</td>\n",
       "      <td>Unavailable</td>\n",
       "      <td>match_status:2</td>\n",
       "      <td>Unavailable</td>\n",
       "      <td>0.59</td>\n",
       "    </tr>\n",
       "    <tr>\n",
       "      <td>23</td>\n",
       "      <td>id_35</td>\n",
       "      <td>category</td>\n",
       "      <td>0</td>\n",
       "      <td>3</td>\n",
       "      <td>F</td>\n",
       "      <td>T</td>\n",
       "      <td>F</td>\n",
       "      <td>1.11</td>\n",
       "    </tr>\n",
       "    <tr>\n",
       "      <td>24</td>\n",
       "      <td>id_36</td>\n",
       "      <td>category</td>\n",
       "      <td>0</td>\n",
       "      <td>3</td>\n",
       "      <td>F</td>\n",
       "      <td>F</td>\n",
       "      <td>T</td>\n",
       "      <td>0.89</td>\n",
       "    </tr>\n",
       "    <tr>\n",
       "      <td>25</td>\n",
       "      <td>id_37</td>\n",
       "      <td>category</td>\n",
       "      <td>0</td>\n",
       "      <td>3</td>\n",
       "      <td>T</td>\n",
       "      <td>T</td>\n",
       "      <td>T</td>\n",
       "      <td>1.05</td>\n",
       "    </tr>\n",
       "    <tr>\n",
       "      <td>26</td>\n",
       "      <td>id_38</td>\n",
       "      <td>category</td>\n",
       "      <td>0</td>\n",
       "      <td>3</td>\n",
       "      <td>F</td>\n",
       "      <td>T</td>\n",
       "      <td>F</td>\n",
       "      <td>1.08</td>\n",
       "    </tr>\n",
       "    <tr>\n",
       "      <td>27</td>\n",
       "      <td>DeviceInfo</td>\n",
       "      <td>category</td>\n",
       "      <td>0</td>\n",
       "      <td>2227</td>\n",
       "      <td>MYA-L13 Build/HUAWEIMYA-L13</td>\n",
       "      <td>LGLS676 Build/MXB48T</td>\n",
       "      <td>Trident/7.0</td>\n",
       "      <td>1.89</td>\n",
       "    </tr>\n",
       "    <tr>\n",
       "      <td>28</td>\n",
       "      <td>DeviceType</td>\n",
       "      <td>category</td>\n",
       "      <td>0</td>\n",
       "      <td>3</td>\n",
       "      <td>mobile</td>\n",
       "      <td>mobile</td>\n",
       "      <td>desktop</td>\n",
       "      <td>1.11</td>\n",
       "    </tr>\n",
       "    <tr>\n",
       "      <td>29</td>\n",
       "      <td>R_emaildomain</td>\n",
       "      <td>category</td>\n",
       "      <td>0</td>\n",
       "      <td>61</td>\n",
       "      <td>Unavailable</td>\n",
       "      <td>Unavailable</td>\n",
       "      <td>Unavailable</td>\n",
       "      <td>1.56</td>\n",
       "    </tr>\n",
       "    <tr>\n",
       "      <td>30</td>\n",
       "      <td>P_emaildomain</td>\n",
       "      <td>category</td>\n",
       "      <td>0</td>\n",
       "      <td>61</td>\n",
       "      <td>gmail.com</td>\n",
       "      <td>aol.com</td>\n",
       "      <td>hotmail.com</td>\n",
       "      <td>2.88</td>\n",
       "    </tr>\n",
       "    <tr>\n",
       "      <td>31</td>\n",
       "      <td>addr1</td>\n",
       "      <td>category</td>\n",
       "      <td>0</td>\n",
       "      <td>293</td>\n",
       "      <td>170</td>\n",
       "      <td>299</td>\n",
       "      <td>472</td>\n",
       "      <td>4.99</td>\n",
       "    </tr>\n",
       "    <tr>\n",
       "      <td>32</td>\n",
       "      <td>addr2</td>\n",
       "      <td>category</td>\n",
       "      <td>0</td>\n",
       "      <td>73</td>\n",
       "      <td>87</td>\n",
       "      <td>87</td>\n",
       "      <td>87</td>\n",
       "      <td>0.65</td>\n",
       "    </tr>\n",
       "    <tr>\n",
       "      <td>33</td>\n",
       "      <td>ProductCD</td>\n",
       "      <td>category</td>\n",
       "      <td>0</td>\n",
       "      <td>5</td>\n",
       "      <td>W</td>\n",
       "      <td>W</td>\n",
       "      <td>W</td>\n",
       "      <td>1.37</td>\n",
       "    </tr>\n",
       "    <tr>\n",
       "      <td>34</td>\n",
       "      <td>M1</td>\n",
       "      <td>category</td>\n",
       "      <td>0</td>\n",
       "      <td>3</td>\n",
       "      <td>T</td>\n",
       "      <td>T</td>\n",
       "      <td>T</td>\n",
       "      <td>0.93</td>\n",
       "    </tr>\n",
       "    <tr>\n",
       "      <td>35</td>\n",
       "      <td>M2</td>\n",
       "      <td>category</td>\n",
       "      <td>0</td>\n",
       "      <td>3</td>\n",
       "      <td>T</td>\n",
       "      <td>F</td>\n",
       "      <td>T</td>\n",
       "      <td>1.20</td>\n",
       "    </tr>\n",
       "    <tr>\n",
       "      <td>36</td>\n",
       "      <td>M3</td>\n",
       "      <td>category</td>\n",
       "      <td>0</td>\n",
       "      <td>3</td>\n",
       "      <td>F</td>\n",
       "      <td>F</td>\n",
       "      <td>F</td>\n",
       "      <td>1.39</td>\n",
       "    </tr>\n",
       "    <tr>\n",
       "      <td>37</td>\n",
       "      <td>M4</td>\n",
       "      <td>category</td>\n",
       "      <td>0</td>\n",
       "      <td>4</td>\n",
       "      <td>Unavailable</td>\n",
       "      <td>M0</td>\n",
       "      <td>M0</td>\n",
       "      <td>1.72</td>\n",
       "    </tr>\n",
       "    <tr>\n",
       "      <td>38</td>\n",
       "      <td>M5</td>\n",
       "      <td>category</td>\n",
       "      <td>0</td>\n",
       "      <td>3</td>\n",
       "      <td>Unavailable</td>\n",
       "      <td>Unavailable</td>\n",
       "      <td>F</td>\n",
       "      <td>1.35</td>\n",
       "    </tr>\n",
       "    <tr>\n",
       "      <td>39</td>\n",
       "      <td>M6</td>\n",
       "      <td>category</td>\n",
       "      <td>0</td>\n",
       "      <td>3</td>\n",
       "      <td>F</td>\n",
       "      <td>F</td>\n",
       "      <td>F</td>\n",
       "      <td>1.58</td>\n",
       "    </tr>\n",
       "    <tr>\n",
       "      <td>40</td>\n",
       "      <td>M7</td>\n",
       "      <td>category</td>\n",
       "      <td>0</td>\n",
       "      <td>3</td>\n",
       "      <td>T</td>\n",
       "      <td>Unavailable</td>\n",
       "      <td>F</td>\n",
       "      <td>1.31</td>\n",
       "    </tr>\n",
       "    <tr>\n",
       "      <td>41</td>\n",
       "      <td>M8</td>\n",
       "      <td>category</td>\n",
       "      <td>0</td>\n",
       "      <td>3</td>\n",
       "      <td>T</td>\n",
       "      <td>Unavailable</td>\n",
       "      <td>F</td>\n",
       "      <td>1.51</td>\n",
       "    </tr>\n",
       "    <tr>\n",
       "      <td>42</td>\n",
       "      <td>M9</td>\n",
       "      <td>category</td>\n",
       "      <td>0</td>\n",
       "      <td>3</td>\n",
       "      <td>T</td>\n",
       "      <td>Unavailable</td>\n",
       "      <td>F</td>\n",
       "      <td>1.30</td>\n",
       "    </tr>\n",
       "    <tr>\n",
       "      <td>43</td>\n",
       "      <td>card1</td>\n",
       "      <td>category</td>\n",
       "      <td>0</td>\n",
       "      <td>13244</td>\n",
       "      <td>10409</td>\n",
       "      <td>4272</td>\n",
       "      <td>4476</td>\n",
       "      <td>9.95</td>\n",
       "    </tr>\n",
       "    <tr>\n",
       "      <td>44</td>\n",
       "      <td>card2</td>\n",
       "      <td>category</td>\n",
       "      <td>0</td>\n",
       "      <td>498</td>\n",
       "      <td>111</td>\n",
       "      <td>111</td>\n",
       "      <td>574</td>\n",
       "      <td>6.30</td>\n",
       "    </tr>\n",
       "    <tr>\n",
       "      <td>45</td>\n",
       "      <td>card3</td>\n",
       "      <td>category</td>\n",
       "      <td>0</td>\n",
       "      <td>116</td>\n",
       "      <td>150</td>\n",
       "      <td>150</td>\n",
       "      <td>150</td>\n",
       "      <td>0.86</td>\n",
       "    </tr>\n",
       "    <tr>\n",
       "      <td>46</td>\n",
       "      <td>card4</td>\n",
       "      <td>category</td>\n",
       "      <td>0</td>\n",
       "      <td>5</td>\n",
       "      <td>visa</td>\n",
       "      <td>visa</td>\n",
       "      <td>visa</td>\n",
       "      <td>1.10</td>\n",
       "    </tr>\n",
       "    <tr>\n",
       "      <td>47</td>\n",
       "      <td>card5</td>\n",
       "      <td>category</td>\n",
       "      <td>0</td>\n",
       "      <td>103</td>\n",
       "      <td>226</td>\n",
       "      <td>226</td>\n",
       "      <td>226</td>\n",
       "      <td>2.68</td>\n",
       "    </tr>\n",
       "    <tr>\n",
       "      <td>48</td>\n",
       "      <td>card6</td>\n",
       "      <td>category</td>\n",
       "      <td>0</td>\n",
       "      <td>4</td>\n",
       "      <td>debit</td>\n",
       "      <td>debit</td>\n",
       "      <td>debit</td>\n",
       "      <td>0.84</td>\n",
       "    </tr>\n",
       "    <tr>\n",
       "      <td>49</td>\n",
       "      <td>Hours</td>\n",
       "      <td>category</td>\n",
       "      <td>0</td>\n",
       "      <td>24</td>\n",
       "      <td>0</td>\n",
       "      <td>0</td>\n",
       "      <td>0</td>\n",
       "      <td>4.26</td>\n",
       "    </tr>\n",
       "    <tr>\n",
       "      <td>50</td>\n",
       "      <td>Days</td>\n",
       "      <td>category</td>\n",
       "      <td>0</td>\n",
       "      <td>7</td>\n",
       "      <td>0</td>\n",
       "      <td>0</td>\n",
       "      <td>0</td>\n",
       "      <td>2.80</td>\n",
       "    </tr>\n",
       "  </tbody>\n",
       "</table>\n",
       "</div>"
      ],
      "text/plain": [
       "             Name    dtypes  Missing  Uniques                  First Value  \\\n",
       "0           id_12  category        0        3                     NotFound   \n",
       "1           id_13  category        0       28                           27   \n",
       "2           id_14  category        0       28                  Unavailable   \n",
       "3           id_15  category        0        4                          New   \n",
       "4           id_16  category        0        3                     NotFound   \n",
       "5           id_17  category        0      104                          225   \n",
       "6           id_18  category        0       18                           15   \n",
       "7           id_19  category        0      503                          427   \n",
       "8           id_20  category        0      437                          563   \n",
       "9           id_21  category        0      444                  Unavailable   \n",
       "10          id_22  category        0       27                  Unavailable   \n",
       "11          id_23  category        0        4                  Unavailable   \n",
       "12          id_24  category        0       16                  Unavailable   \n",
       "13          id_25  category        0      310                  Unavailable   \n",
       "14          id_26  category        0       95                  Unavailable   \n",
       "15          id_27  category        0        3                  Unavailable   \n",
       "16          id_28  category        0        3                          New   \n",
       "17          id_29  category        0        3                     NotFound   \n",
       "18          id_30  category        0       87                  Unavailable   \n",
       "19          id_31  category        0      136      chrome 67.0 for android   \n",
       "20          id_32  category        0        6                  Unavailable   \n",
       "21          id_33  category        0      391                  Unavailable   \n",
       "22          id_34  category        0        3                  Unavailable   \n",
       "23          id_35  category        0        3                            F   \n",
       "24          id_36  category        0        3                            F   \n",
       "25          id_37  category        0        3                            T   \n",
       "26          id_38  category        0        3                            F   \n",
       "27     DeviceInfo  category        0     2227  MYA-L13 Build/HUAWEIMYA-L13   \n",
       "28     DeviceType  category        0        3                       mobile   \n",
       "29  R_emaildomain  category        0       61                  Unavailable   \n",
       "30  P_emaildomain  category        0       61                    gmail.com   \n",
       "31          addr1  category        0      293                          170   \n",
       "32          addr2  category        0       73                           87   \n",
       "33      ProductCD  category        0        5                            W   \n",
       "34             M1  category        0        3                            T   \n",
       "35             M2  category        0        3                            T   \n",
       "36             M3  category        0        3                            F   \n",
       "37             M4  category        0        4                  Unavailable   \n",
       "38             M5  category        0        3                  Unavailable   \n",
       "39             M6  category        0        3                            F   \n",
       "40             M7  category        0        3                            T   \n",
       "41             M8  category        0        3                            T   \n",
       "42             M9  category        0        3                            T   \n",
       "43          card1  category        0    13244                        10409   \n",
       "44          card2  category        0      498                          111   \n",
       "45          card3  category        0      116                          150   \n",
       "46          card4  category        0        5                         visa   \n",
       "47          card5  category        0      103                          226   \n",
       "48          card6  category        0        4                        debit   \n",
       "49          Hours  category        0       24                            0   \n",
       "50           Days  category        0        7                            0   \n",
       "\n",
       "               Second Value         Third Value  Entropy  \n",
       "0                     Found            NotFound     1.02  \n",
       "1               Unavailable                  52     1.20  \n",
       "2                      -300                -360     0.84  \n",
       "3                     Found                 New     1.20  \n",
       "4                     Found            NotFound     1.06  \n",
       "5                       166                 225     1.19  \n",
       "6               Unavailable         Unavailable     0.66  \n",
       "7                       542                 271     2.28  \n",
       "8                       368                 507     2.33  \n",
       "9               Unavailable         Unavailable     0.13  \n",
       "10              Unavailable         Unavailable     0.09  \n",
       "11              Unavailable         Unavailable     0.09  \n",
       "12              Unavailable         Unavailable     0.09  \n",
       "13              Unavailable         Unavailable     0.12  \n",
       "14              Unavailable         Unavailable     0.12  \n",
       "15              Unavailable         Unavailable     0.08  \n",
       "16                    Found                 New     1.11  \n",
       "17                    Found            NotFound     1.11  \n",
       "18            Android 6.0.1         Unavailable     1.15  \n",
       "19  chrome 67.0 for android  ie 11.0 for tablet     2.15  \n",
       "20                       24         Unavailable     0.70  \n",
       "21                 1280x720         Unavailable     1.23  \n",
       "22           match_status:2         Unavailable     0.59  \n",
       "23                        T                   F     1.11  \n",
       "24                        F                   T     0.89  \n",
       "25                        T                   T     1.05  \n",
       "26                        T                   F     1.08  \n",
       "27     LGLS676 Build/MXB48T         Trident/7.0     1.89  \n",
       "28                   mobile             desktop     1.11  \n",
       "29              Unavailable         Unavailable     1.56  \n",
       "30                  aol.com         hotmail.com     2.88  \n",
       "31                      299                 472     4.99  \n",
       "32                       87                  87     0.65  \n",
       "33                        W                   W     1.37  \n",
       "34                        T                   T     0.93  \n",
       "35                        F                   T     1.20  \n",
       "36                        F                   F     1.39  \n",
       "37                       M0                  M0     1.72  \n",
       "38              Unavailable                   F     1.35  \n",
       "39                        F                   F     1.58  \n",
       "40              Unavailable                   F     1.31  \n",
       "41              Unavailable                   F     1.51  \n",
       "42              Unavailable                   F     1.30  \n",
       "43                     4272                4476     9.95  \n",
       "44                      111                 574     6.30  \n",
       "45                      150                 150     0.86  \n",
       "46                     visa                visa     1.10  \n",
       "47                      226                 226     2.68  \n",
       "48                    debit               debit     0.84  \n",
       "49                        0                   0     4.26  \n",
       "50                        0                   0     2.80  "
      ]
     },
     "execution_count": 11,
     "metadata": {},
     "output_type": "execute_result"
    }
   ],
   "source": [
    "categories = categories_list[1:]\n",
    "summarize(Ttest[categories])"
   ]
  },
  {
   "cell_type": "code",
   "execution_count": 12,
   "metadata": {},
   "outputs": [],
   "source": [
    "category_means={}\n",
    "\n",
    "for elem in categories:\n",
    "    train_dct = calc_group_mean(df=Ttrain,group_of=elem,mean_of='logTAmt')\n",
    "    test_dct = calc_group_mean(df=Ttest,group_of=elem,mean_of='logTAmt')\n",
    "    category_means[elem] = {**test_dct, **train_dct}"
   ]
  },
  {
   "cell_type": "code",
   "execution_count": 13,
   "metadata": {},
   "outputs": [],
   "source": [
    "for elem in categories:\n",
    "    train_target[elem] = Ttrain['logTAmt']-map_to_groups(df=Ttrain,group_of=elem,map_dict=category_means[elem],convert_type=np.float32)\n",
    "    test_target[elem] = Ttest['logTAmt']-map_to_groups(df=Ttest,group_of=elem,map_dict=category_means[elem],convert_type=np.float32)"
   ]
  },
  {
   "cell_type": "code",
   "execution_count": 14,
   "metadata": {},
   "outputs": [
    {
     "name": "stdout",
     "output_type": "stream",
     "text": [
      "Dataset Shape: (506691, 1)\n"
     ]
    },
    {
     "data": {
      "text/html": [
       "<div>\n",
       "<style scoped>\n",
       "    .dataframe tbody tr th:only-of-type {\n",
       "        vertical-align: middle;\n",
       "    }\n",
       "\n",
       "    .dataframe tbody tr th {\n",
       "        vertical-align: top;\n",
       "    }\n",
       "\n",
       "    .dataframe thead th {\n",
       "        text-align: right;\n",
       "    }\n",
       "</style>\n",
       "<table border=\"1\" class=\"dataframe\">\n",
       "  <thead>\n",
       "    <tr style=\"text-align: right;\">\n",
       "      <th></th>\n",
       "      <th>Name</th>\n",
       "      <th>dtypes</th>\n",
       "      <th>Missing</th>\n",
       "      <th>Uniques</th>\n",
       "      <th>First Value</th>\n",
       "      <th>Second Value</th>\n",
       "      <th>Third Value</th>\n",
       "      <th>Entropy</th>\n",
       "    </tr>\n",
       "  </thead>\n",
       "  <tbody>\n",
       "    <tr>\n",
       "      <td>0</td>\n",
       "      <td>card5</td>\n",
       "      <td>float32</td>\n",
       "      <td>0</td>\n",
       "      <td>31653</td>\n",
       "      <td>-0.984823</td>\n",
       "      <td>-0.557174</td>\n",
       "      <td>0.692669</td>\n",
       "      <td>10.26</td>\n",
       "    </tr>\n",
       "  </tbody>\n",
       "</table>\n",
       "</div>"
      ],
      "text/plain": [
       "    Name   dtypes  Missing  Uniques  First Value  Second Value  Third Value  \\\n",
       "0  card5  float32        0    31653    -0.984823     -0.557174     0.692669   \n",
       "\n",
       "   Entropy  \n",
       "0    10.26  "
      ]
     },
     "execution_count": 14,
     "metadata": {},
     "output_type": "execute_result"
    }
   ],
   "source": [
    "summarize(test_target[['card5']])"
   ]
  },
  {
   "cell_type": "code",
   "execution_count": 15,
   "metadata": {},
   "outputs": [
    {
     "name": "stdout",
     "output_type": "stream",
     "text": [
      "Dataset Shape: (506691, 1)\n"
     ]
    },
    {
     "data": {
      "text/html": [
       "<div>\n",
       "<style scoped>\n",
       "    .dataframe tbody tr th:only-of-type {\n",
       "        vertical-align: middle;\n",
       "    }\n",
       "\n",
       "    .dataframe tbody tr th {\n",
       "        vertical-align: top;\n",
       "    }\n",
       "\n",
       "    .dataframe thead th {\n",
       "        text-align: right;\n",
       "    }\n",
       "</style>\n",
       "<table border=\"1\" class=\"dataframe\">\n",
       "  <thead>\n",
       "    <tr style=\"text-align: right;\">\n",
       "      <th></th>\n",
       "      <th>Name</th>\n",
       "      <th>dtypes</th>\n",
       "      <th>Missing</th>\n",
       "      <th>Uniques</th>\n",
       "      <th>First Value</th>\n",
       "      <th>Second Value</th>\n",
       "      <th>Third Value</th>\n",
       "      <th>Entropy</th>\n",
       "    </tr>\n",
       "  </thead>\n",
       "  <tbody>\n",
       "    <tr>\n",
       "      <td>0</td>\n",
       "      <td>logTAmt</td>\n",
       "      <td>float32</td>\n",
       "      <td>0</td>\n",
       "      <td>14119</td>\n",
       "      <td>3.464172</td>\n",
       "      <td>3.89182</td>\n",
       "      <td>5.141664</td>\n",
       "      <td>8.08</td>\n",
       "    </tr>\n",
       "  </tbody>\n",
       "</table>\n",
       "</div>"
      ],
      "text/plain": [
       "      Name   dtypes  Missing  Uniques  First Value  Second Value  Third Value  \\\n",
       "0  logTAmt  float32        0    14119     3.464172       3.89182     5.141664   \n",
       "\n",
       "   Entropy  \n",
       "0     8.08  "
      ]
     },
     "execution_count": 15,
     "metadata": {},
     "output_type": "execute_result"
    }
   ],
   "source": [
    "summarize(Ttest[['logTAmt']])"
   ]
  },
  {
   "cell_type": "code",
   "execution_count": 16,
   "metadata": {},
   "outputs": [
    {
     "data": {
      "text/plain": [
       "506691"
      ]
     },
     "execution_count": 16,
     "metadata": {},
     "output_type": "execute_result"
    }
   ],
   "source": [
    "map_to_groups(df=Ttest,group_of='card5',map_dict=category_means[elem],convert_type=np.float32).isnull().sum()"
   ]
  },
  {
   "cell_type": "code",
   "execution_count": 17,
   "metadata": {},
   "outputs": [
    {
     "data": {
      "text/plain": [
       "<matplotlib.axes._subplots.AxesSubplot at 0x7fc0ecb89240>"
      ]
     },
     "execution_count": 17,
     "metadata": {},
     "output_type": "execute_result"
    },
    {
     "data": {
      "image/png": "[encoded data removed]",
      "text/plain": [
       "<Figure size 432x288 with 1 Axes>"
      ]
     },
     "metadata": {
      "needs_background": "light"
     },
     "output_type": "display_data"
    }
   ],
   "source": [
    "sns.distplot(train_target['R_emaildomain'])"
   ]
  },
  {
   "cell_type": "code",
   "execution_count": 18,
   "metadata": {},
   "outputs": [],
   "source": [
    "non_categories_C = ['C'+str(i) for i in range(1,15)]\n",
    "non_categories_D = ['D'+str(i) for i in range(1,16)]\n",
    "non_categories_V = ['V'+str(i) for i in range(1,340)]\n",
    "non_categories_id = ['id_0'+str(i) for i in range(1,10)]+['id_10','id_11']\n",
    "continuous = non_categories_C+non_categories_D+non_categories_V+non_categories_id"
   ]
  },
  {
   "cell_type": "code",
   "execution_count": 19,
   "metadata": {},
   "outputs": [
    {
     "name": "stdout",
     "output_type": "stream",
     "text": [
      "Dataset Shape: (590540, 379)\n"
     ]
    }
   ],
   "source": [
    "continuous_summary = summarize(Ttrain[continuous])"
   ]
  },
  {
   "cell_type": "code",
   "execution_count": 20,
   "metadata": {},
   "outputs": [
    {
     "data": {
      "text/plain": [
       "[<matplotlib.lines.Line2D at 0x7fc0e5262128>]"
      ]
     },
     "execution_count": 20,
     "metadata": {},
     "output_type": "execute_result"
    },
    {
     "data": {
      "image/png": "[encoded data removed]",
      "text/plain": [
       "<Figure size 432x288 with 1 Axes>"
      ]
     },
     "metadata": {
      "needs_background": "light"
     },
     "output_type": "display_data"
    }
   ],
   "source": [
    "plt.plot(continuous_summary['Missing']/Ttrain.shape[0])"
   ]
  },
  {
   "cell_type": "code",
   "execution_count": 21,
   "metadata": {},
   "outputs": [
    {
     "name": "stdout",
     "output_type": "stream",
     "text": [
      "Dataset Shape: (506691, 379)\n"
     ]
    },
    {
     "data": {
      "text/html": [
       "<div>\n",
       "<style scoped>\n",
       "    .dataframe tbody tr th:only-of-type {\n",
       "        vertical-align: middle;\n",
       "    }\n",
       "\n",
       "    .dataframe tbody tr th {\n",
       "        vertical-align: top;\n",
       "    }\n",
       "\n",
       "    .dataframe thead th {\n",
       "        text-align: right;\n",
       "    }\n",
       "</style>\n",
       "<table border=\"1\" class=\"dataframe\">\n",
       "  <thead>\n",
       "    <tr style=\"text-align: right;\">\n",
       "      <th></th>\n",
       "      <th>Name</th>\n",
       "      <th>dtypes</th>\n",
       "      <th>Missing</th>\n",
       "      <th>Uniques</th>\n",
       "      <th>First Value</th>\n",
       "      <th>Second Value</th>\n",
       "      <th>Third Value</th>\n",
       "      <th>Entropy</th>\n",
       "    </tr>\n",
       "  </thead>\n",
       "  <tbody>\n",
       "    <tr>\n",
       "      <td>0</td>\n",
       "      <td>C1</td>\n",
       "      <td>float32</td>\n",
       "      <td>3</td>\n",
       "      <td>1174</td>\n",
       "      <td>6.0</td>\n",
       "      <td>3.0</td>\n",
       "      <td>2.0</td>\n",
       "      <td>2.68</td>\n",
       "    </tr>\n",
       "    <tr>\n",
       "      <td>1</td>\n",
       "      <td>C2</td>\n",
       "      <td>float32</td>\n",
       "      <td>3</td>\n",
       "      <td>1123</td>\n",
       "      <td>6.0</td>\n",
       "      <td>2.0</td>\n",
       "      <td>2.0</td>\n",
       "      <td>2.76</td>\n",
       "    </tr>\n",
       "    <tr>\n",
       "      <td>2</td>\n",
       "      <td>C3</td>\n",
       "      <td>float32</td>\n",
       "      <td>3</td>\n",
       "      <td>31</td>\n",
       "      <td>0.0</td>\n",
       "      <td>0.0</td>\n",
       "      <td>0.0</td>\n",
       "      <td>0.18</td>\n",
       "    </tr>\n",
       "    <tr>\n",
       "      <td>3</td>\n",
       "      <td>C4</td>\n",
       "      <td>float32</td>\n",
       "      <td>3</td>\n",
       "      <td>728</td>\n",
       "      <td>0.0</td>\n",
       "      <td>0.0</td>\n",
       "      <td>0.0</td>\n",
       "      <td>1.21</td>\n",
       "    </tr>\n",
       "    <tr>\n",
       "      <td>4</td>\n",
       "      <td>C5</td>\n",
       "      <td>float32</td>\n",
       "      <td>3</td>\n",
       "      <td>353</td>\n",
       "      <td>3.0</td>\n",
       "      <td>0.0</td>\n",
       "      <td>0.0</td>\n",
       "      <td>1.93</td>\n",
       "    </tr>\n",
       "    <tr>\n",
       "      <td>...</td>\n",
       "      <td>...</td>\n",
       "      <td>...</td>\n",
       "      <td>...</td>\n",
       "      <td>...</td>\n",
       "      <td>...</td>\n",
       "      <td>...</td>\n",
       "      <td>...</td>\n",
       "      <td>...</td>\n",
       "    </tr>\n",
       "    <tr>\n",
       "      <td>374</td>\n",
       "      <td>id_07</td>\n",
       "      <td>float32</td>\n",
       "      <td>501632</td>\n",
       "      <td>81</td>\n",
       "      <td>NaN</td>\n",
       "      <td>NaN</td>\n",
       "      <td>NaN</td>\n",
       "      <td>5.38</td>\n",
       "    </tr>\n",
       "    <tr>\n",
       "      <td>375</td>\n",
       "      <td>id_08</td>\n",
       "      <td>float32</td>\n",
       "      <td>501632</td>\n",
       "      <td>90</td>\n",
       "      <td>NaN</td>\n",
       "      <td>NaN</td>\n",
       "      <td>NaN</td>\n",
       "      <td>5.63</td>\n",
       "    </tr>\n",
       "    <tr>\n",
       "      <td>376</td>\n",
       "      <td>id_09</td>\n",
       "      <td>float32</td>\n",
       "      <td>432353</td>\n",
       "      <td>38</td>\n",
       "      <td>NaN</td>\n",
       "      <td>0.0</td>\n",
       "      <td>NaN</td>\n",
       "      <td>0.50</td>\n",
       "    </tr>\n",
       "    <tr>\n",
       "      <td>377</td>\n",
       "      <td>id_10</td>\n",
       "      <td>float32</td>\n",
       "      <td>432353</td>\n",
       "      <td>52</td>\n",
       "      <td>NaN</td>\n",
       "      <td>0.0</td>\n",
       "      <td>NaN</td>\n",
       "      <td>0.29</td>\n",
       "    </tr>\n",
       "    <tr>\n",
       "      <td>378</td>\n",
       "      <td>id_11</td>\n",
       "      <td>float32</td>\n",
       "      <td>369913</td>\n",
       "      <td>301</td>\n",
       "      <td>100.0</td>\n",
       "      <td>100.0</td>\n",
       "      <td>100.0</td>\n",
       "      <td>0.63</td>\n",
       "    </tr>\n",
       "  </tbody>\n",
       "</table>\n",
       "<p>379 rows × 8 columns</p>\n",
       "</div>"
      ],
      "text/plain": [
       "      Name   dtypes  Missing  Uniques  First Value  Second Value  Third Value  \\\n",
       "0       C1  float32        3     1174          6.0           3.0          2.0   \n",
       "1       C2  float32        3     1123          6.0           2.0          2.0   \n",
       "2       C3  float32        3       31          0.0           0.0          0.0   \n",
       "3       C4  float32        3      728          0.0           0.0          0.0   \n",
       "4       C5  float32        3      353          3.0           0.0          0.0   \n",
       "..     ...      ...      ...      ...          ...           ...          ...   \n",
       "374  id_07  float32   501632       81          NaN           NaN          NaN   \n",
       "375  id_08  float32   501632       90          NaN           NaN          NaN   \n",
       "376  id_09  float32   432353       38          NaN           0.0          NaN   \n",
       "377  id_10  float32   432353       52          NaN           0.0          NaN   \n",
       "378  id_11  float32   369913      301        100.0         100.0        100.0   \n",
       "\n",
       "     Entropy  \n",
       "0       2.68  \n",
       "1       2.76  \n",
       "2       0.18  \n",
       "3       1.21  \n",
       "4       1.93  \n",
       "..       ...  \n",
       "374     5.38  \n",
       "375     5.63  \n",
       "376     0.50  \n",
       "377     0.29  \n",
       "378     0.63  \n",
       "\n",
       "[379 rows x 8 columns]"
      ]
     },
     "execution_count": 21,
     "metadata": {},
     "output_type": "execute_result"
    }
   ],
   "source": [
    "summarize(Ttest[continuous])"
   ]
  },
  {
   "cell_type": "code",
   "execution_count": 22,
   "metadata": {},
   "outputs": [],
   "source": [
    "considered_cont, nonconsidered_cont = ignore_categories_nan(threshold=0.4,df=Ttrain,categories=continuous)"
   ]
  },
  {
   "cell_type": "code",
   "execution_count": 23,
   "metadata": {},
   "outputs": [],
   "source": [
    "considered_cont_Train_df, min_max_train_dct = min_max_scale(df=Ttrain,categories=considered_cont)\n",
    "considered_cont_Test_df, _ = min_max_scale(df=Ttest,categories=considered_cont, min_max_dict=min_max_train_dct)"
   ]
  },
  {
   "cell_type": "code",
   "execution_count": 24,
   "metadata": {},
   "outputs": [
    {
     "data": {
      "text/plain": [
       "SimpleImputer(add_indicator=False, copy=True, fill_value=None,\n",
       "              missing_values=nan, strategy='mean', verbose=0)"
      ]
     },
     "execution_count": 24,
     "metadata": {},
     "output_type": "execute_result"
    }
   ],
   "source": [
    "imputer = SimpleImputer(missing_values=np.nan, strategy='mean')\n",
    "imputer.fit(considered_cont_Train_df)"
   ]
  },
  {
   "cell_type": "code",
   "execution_count": 25,
   "metadata": {},
   "outputs": [],
   "source": [
    "imputed_continuous_train = pd.DataFrame(imputer.transform(considered_cont_Train_df),columns=considered_cont)\n",
    "imputed_continuous_test = pd.DataFrame(imputer.transform(considered_cont_Test_df),columns=considered_cont)"
   ]
  },
  {
   "cell_type": "code",
   "execution_count": 26,
   "metadata": {},
   "outputs": [],
   "source": [
    "n_components = 80\n",
    "new_sols = ['cont'+str(i) for i in range(n_components)]\n",
    "pca_cont = PCA(n_components=n_components)\n",
    "pca_cont.fit(imputed_continuous_train)\n",
    "train_new_cont = pd.DataFrame(pca_cont.transform(imputed_continuous_train),columns = new_sols)\n",
    "test_new_cont = pd.DataFrame(pca_cont.transform(imputed_continuous_test),columns = new_sols)"
   ]
  },
  {
   "cell_type": "code",
   "execution_count": 27,
   "metadata": {},
   "outputs": [],
   "source": [
    "train_target_wo_date = train_target.merge(train_new_cont, how='left',left_index=True,right_index=True)\n",
    "test_target_wo_date = test_target.merge(test_new_cont, how='left',left_index=True,right_index=True)"
   ]
  },
  {
   "cell_type": "code",
   "execution_count": 28,
   "metadata": {},
   "outputs": [],
   "source": [
    "train_target['Hours'] = Ttrain['Hours']\n",
    "train_target['Days'] = Ttrain['Days']\n",
    "test_target['Hours'] = Ttest['Hours']\n",
    "test_target['Days'] = Ttest['Days']"
   ]
  },
  {
   "cell_type": "code",
   "execution_count": 29,
   "metadata": {},
   "outputs": [],
   "source": [
    "training_labels = Ttrain['isFraud']"
   ]
  },
  {
   "cell_type": "code",
   "execution_count": 30,
   "metadata": {},
   "outputs": [
    {
     "name": "stderr",
     "output_type": "stream",
     "text": [
      "/home/lad/Documents/IEEE-CIS-fraud-detection/venv/lib/python3.6/site-packages/sklearn/linear_model/logistic.py:947: ConvergenceWarning: lbfgs failed to converge. Increase the number of iterations.\n",
      "  \"of iterations.\", ConvergenceWarning)\n"
     ]
    }
   ],
   "source": [
    "regressor = LogisticRegression(random_state=42, solver='lbfgs', multi_class='multinomial', max_iter=500).fit(train_target, training_labels)\n",
    "predictions_regressor = regressor.predict(test_target)"
   ]
  },
  {
   "cell_type": "code",
   "execution_count": 31,
   "metadata": {},
   "outputs": [],
   "source": [
    "regressordf = pd.DataFrame()\n",
    "regressordf['TransactionID'] = Ttest['TransactionID']\n",
    "regressordf['isFraud'] = predictions"
   ]
  },
  {
   "cell_type": "code",
   "execution_count": 32,
   "metadata": {},
   "outputs": [],
   "source": [
    "regressordf.to_csv(data_folder+'RSL_regressor.csv', index=False)"
   ]
  },
  {
   "cell_type": "code",
   "execution_count": 39,
   "metadata": {},
   "outputs": [],
   "source": [
    "from sklearn import tree\n",
    "tree_classifier = tree.DecisionTreeClassifier()\n",
    "tree_classifier= tree_classifier.fit(train_target, training_labels)"
   ]
  },
  {
   "cell_type": "code",
   "execution_count": 43,
   "metadata": {},
   "outputs": [],
   "source": [
    "result_tree = pd.DataFrame()\n",
    "pred_tree = tree_classifier.predict(test_target)\n",
    "result_tree['TransactionID'] = Ttest['TransactionID']\n",
    "result_tree['isFraud'] = pred_tree"
   ]
  },
  {
   "cell_type": "code",
   "execution_count": 44,
   "metadata": {},
   "outputs": [],
   "source": [
    "result_tree.to_csv(data_folder+'RSL_submission_tree.csv', index=False)"
   ]
  },
  {
   "cell_type": "code",
   "execution_count": 45,
   "metadata": {},
   "outputs": [
    {
     "name": "stdout",
     "output_type": "stream",
     "text": [
      "Dataset Shape: (506691, 1)\n"
     ]
    },
    {
     "data": {
      "text/html": [
       "<div>\n",
       "<style scoped>\n",
       "    .dataframe tbody tr th:only-of-type {\n",
       "        vertical-align: middle;\n",
       "    }\n",
       "\n",
       "    .dataframe tbody tr th {\n",
       "        vertical-align: top;\n",
       "    }\n",
       "\n",
       "    .dataframe thead th {\n",
       "        text-align: right;\n",
       "    }\n",
       "</style>\n",
       "<table border=\"1\" class=\"dataframe\">\n",
       "  <thead>\n",
       "    <tr style=\"text-align: right;\">\n",
       "      <th></th>\n",
       "      <th>Name</th>\n",
       "      <th>dtypes</th>\n",
       "      <th>Missing</th>\n",
       "      <th>Uniques</th>\n",
       "      <th>First Value</th>\n",
       "      <th>Second Value</th>\n",
       "      <th>Third Value</th>\n",
       "      <th>Entropy</th>\n",
       "    </tr>\n",
       "  </thead>\n",
       "  <tbody>\n",
       "    <tr>\n",
       "      <td>0</td>\n",
       "      <td>isFraud</td>\n",
       "      <td>int64</td>\n",
       "      <td>0</td>\n",
       "      <td>2</td>\n",
       "      <td>0</td>\n",
       "      <td>1</td>\n",
       "      <td>0</td>\n",
       "      <td>0.25</td>\n",
       "    </tr>\n",
       "  </tbody>\n",
       "</table>\n",
       "</div>"
      ],
      "text/plain": [
       "      Name dtypes  Missing  Uniques  First Value  Second Value  Third Value  \\\n",
       "0  isFraud  int64        0        2            0             1            0   \n",
       "\n",
       "   Entropy  \n",
       "0     0.25  "
      ]
     },
     "execution_count": 45,
     "metadata": {},
     "output_type": "execute_result"
    }
   ],
   "source": [
    "summarize(result_tree[['isFraud']])"
   ]
  },
  {
   "cell_type": "code",
   "execution_count": 48,
   "metadata": {},
   "outputs": [
    {
     "data": {
      "text/plain": [
       "PCA(copy=True, iterated_power='auto', n_components=2, random_state=None,\n",
       "    svd_solver='auto', tol=0.0, whiten=False)"
      ]
     },
     "execution_count": 48,
     "metadata": {},
     "output_type": "execute_result"
    }
   ],
   "source": [
    "pca_2 = PCA(n_components=2)\n",
    "pca_2.fit(train_target)"
   ]
  },
  {
   "cell_type": "code",
   "execution_count": 49,
   "metadata": {},
   "outputs": [],
   "source": [
    "train_target_2 = pca_2.transform(train_target)\n",
    "test_target_2 = pca_2.transform(test_target)"
   ]
  },
  {
   "cell_type": "code",
   "execution_count": 54,
   "metadata": {},
   "outputs": [
    {
     "data": {
      "text/plain": [
       "<matplotlib.collections.PathCollection at 0x7fc0a8f370f0>"
      ]
     },
     "execution_count": 54,
     "metadata": {},
     "output_type": "execute_result"
    },
    {
     "data": {
      "image/png": "[encoded data removed]",
      "text/plain": [
       "<Figure size 432x288 with 1 Axes>"
      ]
     },
     "metadata": {
      "needs_background": "light"
     },
     "output_type": "display_data"
    }
   ],
   "source": [
    "plt.scatter(train_target_2[:,0],train_target_2[:,1],c=Ttrain['isFraud'])"
   ]
  },
  {
   "cell_type": "code",
   "execution_count": 55,
   "metadata": {},
   "outputs": [
    {
     "data": {
      "text/plain": [
       "<matplotlib.collections.PathCollection at 0x7fc0a6c7e7f0>"
      ]
     },
     "execution_count": 55,
     "metadata": {},
     "output_type": "execute_result"
    },
    {
     "data": {
      "image/png": "[encoded data removed]",
      "text/plain": [
       "<Figure size 432x288 with 1 Axes>"
      ]
     },
     "metadata": {
      "needs_background": "light"
     },
     "output_type": "display_data"
    }
   ],
   "source": [
    "plt.scatter(test_target_2[:,0],test_target_2[:,1])"
   ]
  },
  {
   "cell_type": "code",
   "execution_count": null,
   "metadata": {},
   "outputs": [],
   "source": []
  }
 ],
 "metadata": {
  "kernelspec": {
   "display_name": "Python 3",
   "language": "python",
   "name": "python3"
  },
  "language_info": {
   "codemirror_mode": {
    "name": "ipython",
    "version": 3
   },
   "file_extension": ".py",
   "mimetype": "text/x-python",
   "name": "python",
   "nbconvert_exporter": "python",
   "pygments_lexer": "ipython3",
   "version": "3.6.8"
  }
 },
 "nbformat": 4,
 "nbformat_minor": 2
}
