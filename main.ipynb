{
 "cells": [
  {
   "cell_type": "code",
   "execution_count": 1,
   "metadata": {},
   "outputs": [],
   "source": [
    "import pandas as pd\n",
    "import numpy as np\n",
    "import os\n",
    "from helper import reduce_memory_usage"
   ]
  },
  {
   "cell_type": "code",
   "execution_count": 2,
   "metadata": {},
   "outputs": [],
   "source": [
    "data_folder = 'dataset/'\n",
    "train_transaction = pd.read_csv(data_folder+'train_transaction.csv')\n",
    "train_identity = pd.read_csv(data_folder+'train_identity.csv')\n",
    "test_transaction = pd.read_csv(data_folder+'test_transaction.csv')\n",
    "test_identity = pd.read_csv(data_folder+'test_identity.csv')"
   ]
  },
  {
   "cell_type": "code",
   "execution_count": 3,
   "metadata": {},
   "outputs": [
    {
     "name": "stdout",
     "output_type": "stream",
     "text": [
      "Mem. usage decreased to 650.48 Mb (66.8% reduction)\n",
      "Mem. usage decreased to 565.37 Mb (66.3% reduction)\n"
     ]
    }
   ],
   "source": [
    "train = reduce_memory_usage(pd.merge(train_transaction, train_identity, on='TransactionID', how='left'))\n",
    "test = reduce_memory_usage(pd.merge(test_transaction, test_identity, on='TransactionID', how='left'))"
   ]
  },
  {
   "cell_type": "code",
   "execution_count": 4,
   "metadata": {},
   "outputs": [],
   "source": [
    "del train_identity, train_transaction, test_identity, test_transaction"
   ]
  },
  {
   "cell_type": "code",
   "execution_count": 6,
   "metadata": {},
   "outputs": [
    {
     "name": "stdout",
     "output_type": "stream",
     "text": [
      "0.010       9.242188\n",
      "0.025      14.500000\n",
      "0.100      25.953125\n",
      "0.250      43.312500\n",
      "0.500      68.750000\n",
      "0.750     125.000000\n",
      "0.900     275.250000\n",
      "0.975     648.262500\n",
      "0.990    1104.000000\n",
      "Name: TransactionAmt, dtype: float64\n"
     ]
    }
   ],
   "source": [
    "print(train['TransactionAmt'].quantile([.01, .025, .1, .25, .5, .75, .9, .975, .99]))"
   ]
  },
  {
   "cell_type": "code",
   "execution_count": null,
   "metadata": {},
   "outputs": [],
   "source": []
  }
 ],
 "metadata": {
  "kernelspec": {
   "display_name": "Python 3",
   "language": "python",
   "name": "python3"
  },
  "language_info": {
   "codemirror_mode": {
    "name": "ipython",
    "version": 3
   },
   "file_extension": ".py",
   "mimetype": "text/x-python",
   "name": "python",
   "nbconvert_exporter": "python",
   "pygments_lexer": "ipython3",
   "version": "3.7.4"
  }
 },
 "nbformat": 4,
 "nbformat_minor": 2
}
